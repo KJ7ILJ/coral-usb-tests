{
 "cells": [
  {
   "cell_type": "markdown",
   "metadata": {},
   "source": [
    "## Object Detection from Webcam Stream using Edge TPU and SSD MobileNet V2\n",
    "This notebook performs object detection on a webcam stream using the `ssd_mobilenet_v2_coco_quant_postprocess_edgetpu.tflite` model (available from the Coral website [here](https://coral.ai/models/object-detection/)). Object detection itself is done on a connected Coral USB accelerator."
   ]
  },
  {
   "cell_type": "code",
   "execution_count": 1,
   "metadata": {},
   "outputs": [],
   "source": [
    "import tensorflow as tf\n",
    "import platform\n",
    "import cv2\n",
    "import numpy as np\n",
    "import platform\n",
    "import collections\n",
    "import tflite_runtime.interpreter as tflite\n",
    "from pycoral.adapters import detect\n",
    "from pycoral.adapters import common"
   ]
  },
  {
   "cell_type": "code",
   "execution_count": 2,
   "metadata": {},
   "outputs": [],
   "source": [
    "EDGETPU_SHARED_LIB = {\n",
    "  'Linux': 'libedgetpu.so.1',\n",
    "  'Darwin': 'libedgetpu.1.dylib',\n",
    "  'Windows': 'edgetpu.dll'\n",
    "}[platform.system()]"
   ]
  },
  {
   "cell_type": "code",
   "execution_count": 3,
   "metadata": {
    "scrolled": true
   },
   "outputs": [],
   "source": [
    "TFLITE_FILE_PATH = r\"models_1\\ssd_mobilenet_v2_coco_quant_postprocess_edgetpu.tflite\"\n",
    "\n",
    "interpreter = tf.lite.Interpreter(TFLITE_FILE_PATH, experimental_delegates=[tflite.load_delegate(EDGETPU_SHARED_LIB)])"
   ]
  },
  {
   "cell_type": "code",
   "execution_count": 4,
   "metadata": {},
   "outputs": [],
   "source": [
    "#Label loading function taken from tflite GitHub repo: https://github.com/google-coral/tflite/tree/master/python/examples/classification\n",
    "def load_labels(path, encoding='utf-8'):\n",
    "  \"\"\"Loads labels from file (with or without index numbers).\n",
    "  Args:\n",
    "    path: path to label file.\n",
    "    encoding: label file encoding.\n",
    "  Returns:\n",
    "    Dictionary mapping indices to labels.\n",
    "  \"\"\"\n",
    "  with open(path, 'r', encoding=encoding) as f:\n",
    "    lines = f.readlines()\n",
    "    if not lines:\n",
    "      return {}\n",
    "\n",
    "    if lines[0].split(' ', maxsplit=1)[0].isdigit():\n",
    "      pairs = [line.split(' ', maxsplit=1) for line in lines]\n",
    "      return {int(index): label.strip() for index, label in pairs}\n",
    "    else:\n",
    "      return {index: line.strip() for index, line in enumerate(lines)}\n",
    "\n",
    "Class = collections.namedtuple('Class', ['id', 'score'])"
   ]
  },
  {
   "cell_type": "code",
   "execution_count": 5,
   "metadata": {},
   "outputs": [],
   "source": [
    "LABEL_PATH = r\"models_1\\coco_labels.txt\"\n",
    "labels = load_labels(LABEL_PATH)"
   ]
  },
  {
   "cell_type": "code",
   "execution_count": 6,
   "metadata": {
    "scrolled": true
   },
   "outputs": [],
   "source": [
    "capture = cv2.VideoCapture(0)"
   ]
  },
  {
   "cell_type": "code",
   "execution_count": 7,
   "metadata": {},
   "outputs": [],
   "source": [
    "interpreter.allocate_tensors()\n",
    "\n",
    "while True:\n",
    "\n",
    "    ret, image_np = capture.read()\n",
    "    \n",
    "    image_np = cv2.resize(image_np, (300, 300))\n",
    "    \n",
    "    common.set_input(interpreter, image_np)\n",
    "    \n",
    "    interpreter.invoke()\n",
    "    \n",
    "    objs = detect.get_objects(interpreter, score_threshold = 0.5)\n",
    "    \n",
    "    for obj in objs:\n",
    "        cv2.rectangle(image_np, (obj.bbox.xmin, obj.bbox.ymin), (obj.bbox.xmax, obj.bbox.ymax), (0, 255, 0), 2)\n",
    "        cv2.putText(image_np, labels.get(obj.id, obj.id) + ' ' + str(round(obj.score, 2)), (obj.bbox.xmin, obj.bbox.ymin - 6), cv2.FONT_HERSHEY_SIMPLEX, 0.5, 255)\n",
    "    \n",
    "    cv2.imshow('Object Detection', image_np)\n",
    "    \n",
    "    if cv2.waitKey(25) & 0xFF == ord('q'):\n",
    "        cv2.destroyAllWindows()\n",
    "        break"
   ]
  },
  {
   "cell_type": "markdown",
   "metadata": {},
   "source": [
    "### Results"
   ]
  },
  {
   "cell_type": "markdown",
   "metadata": {},
   "source": [
    "<table><tr>\n",
    "<td> <img src='person_recognized_1.PNG' style=\"width: 250px;\"/> </td>\n",
    "<td> <img src='objects_recognized_1.PNG' style=\"width: 250px;\"/> </td>\n",
    "</tr></table>"
   ]
  }
 ],
 "metadata": {
  "kernelspec": {
   "display_name": "Python 3",
   "language": "python",
   "name": "python3"
  },
  "language_info": {
   "codemirror_mode": {
    "name": "ipython",
    "version": 3
   },
   "file_extension": ".py",
   "mimetype": "text/x-python",
   "name": "python",
   "nbconvert_exporter": "python",
   "pygments_lexer": "ipython3",
   "version": "3.7.9"
  }
 },
 "nbformat": 4,
 "nbformat_minor": 4
}
